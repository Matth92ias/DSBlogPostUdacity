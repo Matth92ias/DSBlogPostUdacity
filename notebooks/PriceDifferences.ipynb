{
 "cells": [
  {
   "cell_type": "code",
   "execution_count": 1,
   "metadata": {},
   "outputs": [],
   "source": [
    "# Set directories \n",
    "import os\n",
    "import sys\n",
    "\n",
    "src_dir = os.path.join(os.getcwd(), '..', 'src')\n",
    "sys.path.append(src_dir)\n",
    "data_dir = os.path.join(os.getcwd(), '..', 'data')\n",
    "output_dir = os.path.join(os.getcwd(), '..', 'output')\n",
    "\n",
    "# Import Functions\n",
    "import pandas as pd\n",
    "import numpy as np\n",
    "import datetime\n",
    "from plotnine import ggplot, aes, facet_grid, labs, geom_point,scale_color_gradient, scale_fill_gradient,geom_bar,scale_x_continuous,scale_fill_manual,geom_histogram,theme_bw,geom_boxplot\n",
    "\n",
    "\n"
   ]
  },
  {
   "cell_type": "markdown",
   "metadata": {},
   "source": [
    "Questions which are interesting to be adressed:\n",
    "\n",
    "How do prices change over the year? \n",
    "How do the number of available listings change over the year?\n",
    "\n"
   ]
  },
  {
   "cell_type": "markdown",
   "metadata": {},
   "source": [
    "The first step is to import the necessary data"
   ]
  },
  {
   "cell_type": "code",
   "execution_count": 2,
   "metadata": {},
   "outputs": [],
   "source": [
    "calendar = pd.read_csv(data_dir + \"/calendar.csv\")\n",
    "listings = pd.read_csv(data_dir + \"/listings.csv\")\n",
    "reviews = pd.read_csv(data_dir + \"/reviews.csv\")"
   ]
  },
  {
   "cell_type": "markdown",
   "metadata": {},
   "source": [
    "The dataset calenders has the keys listing_id and date. For every row it is indicated whether a specific listing is available on a certain date and if the listing is available what is the price. You can see that that if the listing is available there is always a price given. "
   ]
  },
  {
   "cell_type": "code",
   "execution_count": 3,
   "metadata": {},
   "outputs": [
    {
     "data": {
      "text/plain": [
       "available  price_available\n",
       "f          True               459028\n",
       "t          False              934542\n",
       "dtype: int64"
      ]
     },
     "execution_count": 3,
     "metadata": {},
     "output_type": "execute_result"
    }
   ],
   "source": [
    "calendar[\"price_available\"] = calendar[\"price\"].isnull()\n",
    "calendar.groupby([\"available\",\"price_available\"]).size()"
   ]
  },
  {
   "cell_type": "markdown",
   "metadata": {},
   "source": [
    "The price is a bit messy and needs to be cleaned up. Also another data.frame is created with only rows which include a price. Then some summary stats for the price are printed out"
   ]
  },
  {
   "cell_type": "code",
   "execution_count": 4,
   "metadata": {},
   "outputs": [
    {
     "data": {
      "text/plain": [
       "count    934542.000000\n",
       "mean        137.944859\n",
       "std         105.062870\n",
       "min          10.000000\n",
       "25%          75.000000\n",
       "50%         109.000000\n",
       "75%         160.000000\n",
       "max        1650.000000\n",
       "Name: price, dtype: float64"
      ]
     },
     "execution_count": 4,
     "metadata": {},
     "output_type": "execute_result"
    }
   ],
   "source": [
    "calendar[\"price_orig\"] = calendar[\"price\"]\n",
    "calendar[\"price\"] = calendar[\"price\"].replace({'\\$': '', ',': ''}, regex=True)\n",
    "calendar[\"price\"] = pd.to_numeric(calendar['price'])\n",
    "calendar_wp = calendar.dropna(subset = [\"price\"]) # calendar with price\n",
    "calendar_wp = calendar_wp.reset_index(drop=True)\n",
    "calendar.price.describe()"
   ]
  },
  {
   "cell_type": "markdown",
   "metadata": {},
   "source": [
    "A first look at the data after cleaning the price shows the following. The average price price is 137 euro. The maximum price is 1650 Dollars and the minimum just 10 Dollars. The upper price of 1650 still seems reasonable while a price of 10 Dollars is extremely low. When looking at the other time stamps of the listing_id 4711069 you can see the following (plot). The 10 Dollar listing is an extreme outlier for this listing_id and seems more like a data collection error. \n"
   ]
  },
  {
   "cell_type": "code",
   "execution_count": 5,
   "metadata": {},
   "outputs": [
    {
     "name": "stderr",
     "output_type": "stream",
     "text": [
      "/Users/matthiaslenfers/anaconda3/lib/python3.6/site-packages/plotnine/stats/stat_bin.py:93: PlotnineWarning: 'stat_bin()' using 'bins = 10'. Pick better value with 'binwidth'.\n"
     ]
    },
    {
     "data": {
      "image/png": "[encoded data removed]",
      "text/plain": [
       "<Figure size 640x480 with 1 Axes>"
      ]
     },
     "metadata": {},
     "output_type": "display_data"
    },
    {
     "data": {
      "text/plain": [
       "<ggplot: (-9223372036544881790)>"
      ]
     },
     "execution_count": 5,
     "metadata": {},
     "output_type": "execute_result"
    }
   ],
   "source": [
    "calendar.loc[calendar.price == 10]\n",
    "(\n",
    "    ggplot(calendar_wp.loc[calendar_wp.listing_id == 4711069]) +\n",
    "    aes(x=\"price\") + \n",
    "    geom_histogram() +\n",
    "    theme_bw() \n",
    ")"
   ]
  },
  {
   "cell_type": "markdown",
   "metadata": {},
   "source": [
    "Check the distribution of the price. A few outliers to the top, but these don't seem to be too extreme and could still be explained. "
   ]
  },
  {
   "cell_type": "code",
   "execution_count": 6,
   "metadata": {},
   "outputs": [
    {
     "data": {
      "image/png": "[encoded data removed]",
      "text/plain": [
       "<Figure size 640x480 with 1 Axes>"
      ]
     },
     "metadata": {},
     "output_type": "display_data"
    },
    {
     "data": {
      "text/plain": [
       "<ggplot: (312733234)>"
      ]
     },
     "execution_count": 6,
     "metadata": {},
     "output_type": "execute_result"
    }
   ],
   "source": [
    "(\n",
    "    ggplot(calendar_wp) +\n",
    "    aes(y=\"price\",x= \"available\") + \n",
    "    geom_boxplot()\n",
    ")"
   ]
  },
  {
   "cell_type": "code",
   "execution_count": 7,
   "metadata": {},
   "outputs": [
    {
     "data": {
      "text/html": [
       "<div>\n",
       "<style scoped>\n",
       "    .dataframe tbody tr th:only-of-type {\n",
       "        vertical-align: middle;\n",
       "    }\n",
       "\n",
       "    .dataframe tbody tr th {\n",
       "        vertical-align: top;\n",
       "    }\n",
       "\n",
       "    .dataframe thead tr th {\n",
       "        text-align: left;\n",
       "    }\n",
       "\n",
       "    .dataframe thead tr:last-of-type th {\n",
       "        text-align: right;\n",
       "    }\n",
       "</style>\n",
       "<table border=\"1\" class=\"dataframe\">\n",
       "  <thead>\n",
       "    <tr>\n",
       "      <th></th>\n",
       "      <th colspan=\"8\" halign=\"left\">price</th>\n",
       "    </tr>\n",
       "    <tr>\n",
       "      <th></th>\n",
       "      <th>count</th>\n",
       "      <th>mean</th>\n",
       "      <th>std</th>\n",
       "      <th>min</th>\n",
       "      <th>25%</th>\n",
       "      <th>50%</th>\n",
       "      <th>75%</th>\n",
       "      <th>max</th>\n",
       "    </tr>\n",
       "    <tr>\n",
       "      <th>month</th>\n",
       "      <th></th>\n",
       "      <th></th>\n",
       "      <th></th>\n",
       "      <th></th>\n",
       "      <th></th>\n",
       "      <th></th>\n",
       "      <th></th>\n",
       "      <th></th>\n",
       "    </tr>\n",
       "  </thead>\n",
       "  <tbody>\n",
       "    <tr>\n",
       "      <th>1</th>\n",
       "      <td>64937.0</td>\n",
       "      <td>122.912176</td>\n",
       "      <td>88.708143</td>\n",
       "      <td>12.0</td>\n",
       "      <td>70.0</td>\n",
       "      <td>99.0</td>\n",
       "      <td>148.0</td>\n",
       "      <td>1000.0</td>\n",
       "    </tr>\n",
       "    <tr>\n",
       "      <th>2</th>\n",
       "      <td>73321.0</td>\n",
       "      <td>124.293927</td>\n",
       "      <td>91.550076</td>\n",
       "      <td>20.0</td>\n",
       "      <td>72.0</td>\n",
       "      <td>100.0</td>\n",
       "      <td>149.0</td>\n",
       "      <td>1000.0</td>\n",
       "    </tr>\n",
       "    <tr>\n",
       "      <th>3</th>\n",
       "      <td>83938.0</td>\n",
       "      <td>128.644488</td>\n",
       "      <td>94.371410</td>\n",
       "      <td>20.0</td>\n",
       "      <td>75.0</td>\n",
       "      <td>100.0</td>\n",
       "      <td>150.0</td>\n",
       "      <td>1099.0</td>\n",
       "    </tr>\n",
       "    <tr>\n",
       "      <th>4</th>\n",
       "      <td>76037.0</td>\n",
       "      <td>135.097005</td>\n",
       "      <td>98.232098</td>\n",
       "      <td>20.0</td>\n",
       "      <td>75.0</td>\n",
       "      <td>110.0</td>\n",
       "      <td>160.0</td>\n",
       "      <td>1099.0</td>\n",
       "    </tr>\n",
       "    <tr>\n",
       "      <th>5</th>\n",
       "      <td>79971.0</td>\n",
       "      <td>139.538183</td>\n",
       "      <td>102.863280</td>\n",
       "      <td>20.0</td>\n",
       "      <td>75.0</td>\n",
       "      <td>110.0</td>\n",
       "      <td>169.0</td>\n",
       "      <td>1099.0</td>\n",
       "    </tr>\n",
       "    <tr>\n",
       "      <th>6</th>\n",
       "      <td>77244.0</td>\n",
       "      <td>147.473137</td>\n",
       "      <td>112.481803</td>\n",
       "      <td>20.0</td>\n",
       "      <td>76.0</td>\n",
       "      <td>110.0</td>\n",
       "      <td>175.0</td>\n",
       "      <td>1099.0</td>\n",
       "    </tr>\n",
       "    <tr>\n",
       "      <th>7</th>\n",
       "      <td>74222.0</td>\n",
       "      <td>152.094150</td>\n",
       "      <td>120.078098</td>\n",
       "      <td>20.0</td>\n",
       "      <td>75.0</td>\n",
       "      <td>115.0</td>\n",
       "      <td>180.0</td>\n",
       "      <td>1240.0</td>\n",
       "    </tr>\n",
       "    <tr>\n",
       "      <th>8</th>\n",
       "      <td>76347.0</td>\n",
       "      <td>150.656594</td>\n",
       "      <td>118.754189</td>\n",
       "      <td>20.0</td>\n",
       "      <td>75.0</td>\n",
       "      <td>114.0</td>\n",
       "      <td>179.0</td>\n",
       "      <td>1250.0</td>\n",
       "    </tr>\n",
       "    <tr>\n",
       "      <th>9</th>\n",
       "      <td>77246.0</td>\n",
       "      <td>143.255949</td>\n",
       "      <td>108.804290</td>\n",
       "      <td>20.0</td>\n",
       "      <td>75.0</td>\n",
       "      <td>110.0</td>\n",
       "      <td>175.0</td>\n",
       "      <td>1450.0</td>\n",
       "    </tr>\n",
       "    <tr>\n",
       "      <th>10</th>\n",
       "      <td>82438.0</td>\n",
       "      <td>137.031939</td>\n",
       "      <td>104.491505</td>\n",
       "      <td>20.0</td>\n",
       "      <td>75.0</td>\n",
       "      <td>109.0</td>\n",
       "      <td>160.0</td>\n",
       "      <td>1650.0</td>\n",
       "    </tr>\n",
       "    <tr>\n",
       "      <th>11</th>\n",
       "      <td>81780.0</td>\n",
       "      <td>135.688738</td>\n",
       "      <td>104.264654</td>\n",
       "      <td>10.0</td>\n",
       "      <td>75.0</td>\n",
       "      <td>106.0</td>\n",
       "      <td>155.0</td>\n",
       "      <td>1650.0</td>\n",
       "    </tr>\n",
       "    <tr>\n",
       "      <th>12</th>\n",
       "      <td>87061.0</td>\n",
       "      <td>137.251835</td>\n",
       "      <td>105.101659</td>\n",
       "      <td>20.0</td>\n",
       "      <td>75.0</td>\n",
       "      <td>109.0</td>\n",
       "      <td>160.0</td>\n",
       "      <td>1650.0</td>\n",
       "    </tr>\n",
       "  </tbody>\n",
       "</table>\n",
       "</div>"
      ],
      "text/plain": [
       "         price                                                          \n",
       "         count        mean         std   min   25%    50%    75%     max\n",
       "month                                                                   \n",
       "1      64937.0  122.912176   88.708143  12.0  70.0   99.0  148.0  1000.0\n",
       "2      73321.0  124.293927   91.550076  20.0  72.0  100.0  149.0  1000.0\n",
       "3      83938.0  128.644488   94.371410  20.0  75.0  100.0  150.0  1099.0\n",
       "4      76037.0  135.097005   98.232098  20.0  75.0  110.0  160.0  1099.0\n",
       "5      79971.0  139.538183  102.863280  20.0  75.0  110.0  169.0  1099.0\n",
       "6      77244.0  147.473137  112.481803  20.0  76.0  110.0  175.0  1099.0\n",
       "7      74222.0  152.094150  120.078098  20.0  75.0  115.0  180.0  1240.0\n",
       "8      76347.0  150.656594  118.754189  20.0  75.0  114.0  179.0  1250.0\n",
       "9      77246.0  143.255949  108.804290  20.0  75.0  110.0  175.0  1450.0\n",
       "10     82438.0  137.031939  104.491505  20.0  75.0  109.0  160.0  1650.0\n",
       "11     81780.0  135.688738  104.264654  10.0  75.0  106.0  155.0  1650.0\n",
       "12     87061.0  137.251835  105.101659  20.0  75.0  109.0  160.0  1650.0"
      ]
     },
     "execution_count": 7,
     "metadata": {},
     "output_type": "execute_result"
    }
   ],
   "source": [
    "calendar_wp.loc[:,'date'] = pd.to_datetime(calendar_wp['date'])\n",
    "calendar_wp['month'] = pd.DatetimeIndex(calendar_wp['date']).month\n",
    "calendar_wp.loc[:,[\"month\",\"price\"]].groupby(\"month\").describe()"
   ]
  },
  {
   "cell_type": "markdown",
   "metadata": {},
   "source": [
    "Plot average price per month with month labels. Clear trend that the prices are higher in summer months"
   ]
  },
  {
   "cell_type": "code",
   "execution_count": 8,
   "metadata": {},
   "outputs": [],
   "source": [
    "avg_by_month = calendar_wp.groupby(\"month\").agg({\"price\": [\"mean\",\"count\"]})\n",
    "avg_by_month = avg_by_month.droplevel(0, axis=1).reset_index()"
   ]
  },
  {
   "cell_type": "code",
   "execution_count": 9,
   "metadata": {},
   "outputs": [],
   "source": [
    "months_labels = []\n",
    "for i in range(1,13):\n",
    "    months_labels.append(datetime.date(2008, i, 1).strftime('%b'))\n",
    "break_points = list(range(1,13))\n",
    "limits = (0,13)"
   ]
  },
  {
   "cell_type": "code",
   "execution_count": 10,
   "metadata": {},
   "outputs": [],
   "source": [
    "AvgMonthlyPrices = (ggplot(avg_by_month) +\n",
    "    aes(x= \"month\",y= \"mean\") + \n",
    "    geom_bar(stat = \"identity\") +\n",
    "    theme_bw() +\n",
    "    labs(x=\"Month\",y = \"Average Price\",title = \"Average Price per Month\") +\n",
    "    scale_x_continuous(breaks = break_points,labels =months_labels,limits=limits)\n",
    ")"
   ]
  },
  {
   "cell_type": "code",
   "execution_count": 11,
   "metadata": {},
   "outputs": [
    {
     "data": {
      "image/png": "[encoded data removed]",
      "text/plain": [
       "<Figure size 640x480 with 1 Axes>"
      ]
     },
     "metadata": {},
     "output_type": "display_data"
    },
    {
     "data": {
      "text/plain": [
       "<ggplot: (-9223372036520171120)>"
      ]
     },
     "execution_count": 11,
     "metadata": {},
     "output_type": "execute_result"
    }
   ],
   "source": [
    "AvgMonthlyPrices "
   ]
  },
  {
   "cell_type": "code",
   "execution_count": 12,
   "metadata": {},
   "outputs": [
    {
     "name": "stderr",
     "output_type": "stream",
     "text": [
      "/Users/matthiaslenfers/anaconda3/lib/python3.6/site-packages/plotnine/ggplot.py:729: PlotnineWarning: Saving 6.4 x 4.8 in image.\n",
      "/Users/matthiaslenfers/anaconda3/lib/python3.6/site-packages/plotnine/ggplot.py:730: PlotnineWarning: Filename: /Users/matthiaslenfers/code/DSBlogPostUdacity/notebooks/../output/AvgMonthlyPrices.png\n"
     ]
    }
   ],
   "source": [
    "AvgMonthlyPrices.save(filename = os.path.join(output_dir,\"AvgMonthlyPrices.png\"))"
   ]
  },
  {
   "cell_type": "code",
   "execution_count": 13,
   "metadata": {},
   "outputs": [],
   "source": [
    "ListingsPerMonth = (ggplot(avg_by_month) +\n",
    "    aes(x= \"month\",y= \"count\") + \n",
    "    geom_bar(stat = \"identity\") +\n",
    "    theme_bw() +\n",
    "    labs(x=\"Month\",y = \"Listings\",title = \"Listings per Month\") +\n",
    "    scale_x_continuous(breaks = break_points,labels =months_labels,limits=limits) #\n",
    ")"
   ]
  },
  {
   "cell_type": "code",
   "execution_count": 14,
   "metadata": {},
   "outputs": [
    {
     "data": {
      "image/png": "[encoded data removed]",
      "text/plain": [
       "<Figure size 640x480 with 1 Axes>"
      ]
     },
     "metadata": {},
     "output_type": "display_data"
    },
    {
     "data": {
      "text/plain": [
       "<ggplot: (284411901)>"
      ]
     },
     "execution_count": 14,
     "metadata": {},
     "output_type": "execute_result"
    }
   ],
   "source": [
    "ListingsPerMonth"
   ]
  },
  {
   "cell_type": "code",
   "execution_count": 15,
   "metadata": {},
   "outputs": [
    {
     "name": "stderr",
     "output_type": "stream",
     "text": [
      "/Users/matthiaslenfers/anaconda3/lib/python3.6/site-packages/plotnine/ggplot.py:729: PlotnineWarning: Saving 6.4 x 4.8 in image.\n",
      "/Users/matthiaslenfers/anaconda3/lib/python3.6/site-packages/plotnine/ggplot.py:730: PlotnineWarning: Filename: /Users/matthiaslenfers/code/DSBlogPostUdacity/notebooks/../output/ListingsPerMonth.png\n"
     ]
    }
   ],
   "source": [
    "ListingsPerMonth.save(filename = os.path.join(output_dir,\"ListingsPerMonth.png\"))"
   ]
  },
  {
   "cell_type": "markdown",
   "metadata": {},
   "source": [
    "The next question I wanted to investigate is in how far listings change their price. As the data shows that almost have the users have a difference of no more than 10 Dollars. From here on I did not include the results in the blog post anymore. "
   ]
  },
  {
   "cell_type": "code",
   "execution_count": 17,
   "metadata": {},
   "outputs": [],
   "source": [
    "df_price_diff = calendar_wp.groupby([\"listing_id\"]).agg({\"price\": [\"max\",\"min\"]})\n",
    "df_price_diff = df_price_diff.droplevel(0, axis=1).reset_index()\n",
    "df_price_diff[\"diff_max_min\"] = df_price_diff[\"max\"] - df_price_diff[\"min\"]"
   ]
  },
  {
   "cell_type": "code",
   "execution_count": 18,
   "metadata": {},
   "outputs": [
    {
     "data": {
      "text/plain": [
       "count    3723.000000\n",
       "mean       41.663443\n",
       "std        80.938181\n",
       "min         0.000000\n",
       "25%         0.000000\n",
       "50%        10.000000\n",
       "75%        45.000000\n",
       "max      1150.000000\n",
       "Name: diff_max_min, dtype: float64"
      ]
     },
     "execution_count": 18,
     "metadata": {},
     "output_type": "execute_result"
    }
   ],
   "source": [
    "df_price_diff[\"diff_max_min\"].describe()"
   ]
  },
  {
   "cell_type": "code",
   "execution_count": 19,
   "metadata": {},
   "outputs": [
    {
     "data": {
      "image/png": "[encoded data removed]",
      "text/plain": [
       "<Figure size 640x480 with 1 Axes>"
      ]
     },
     "metadata": {},
     "output_type": "display_data"
    },
    {
     "data": {
      "text/plain": [
       "<ggplot: (324158223)>"
      ]
     },
     "execution_count": 19,
     "metadata": {},
     "output_type": "execute_result"
    }
   ],
   "source": [
    "(\n",
    "    ggplot(df_price_diff.loc[df_price_diff.diff_max_min <=400]) +\n",
    "    aes(\"diff_max_min\") + \n",
    "    geom_bar()\n",
    ")"
   ]
  },
  {
   "cell_type": "code",
   "execution_count": 20,
   "metadata": {},
   "outputs": [],
   "source": [
    "def calc_montly_listings(df_price_diff,calendar_wp,how):\n",
    "    df = df_price_diff.merge(calendar_wp,how = \"left\",left_on = [\"listing_id\",how],right_on = [\"listing_id\",\"price\"])\n",
    "    df = df.groupby([\"month\"]).size().to_frame('listings').reset_index()\n",
    "    df[\"Data\"] = how \n",
    "    return df"
   ]
  },
  {
   "cell_type": "code",
   "execution_count": 21,
   "metadata": {},
   "outputs": [
    {
     "data": {
      "image/png": "[encoded data removed]",
      "text/plain": [
       "<Figure size 640x480 with 1 Axes>"
      ]
     },
     "metadata": {},
     "output_type": "display_data"
    },
    {
     "data": {
      "text/plain": [
       "<ggplot: (309874033)>"
      ]
     },
     "execution_count": 21,
     "metadata": {},
     "output_type": "execute_result"
    }
   ],
   "source": [
    "df = pd.concat([calc_montly_listings(df_price_diff,calendar_wp,\"min\"),calc_montly_listings(df_price_diff,calendar_wp,\"max\")])\n",
    "(\n",
    "    ggplot(df) +\n",
    "    aes(x=\"month\",y=\"listings\",fill=\"Data\") + \n",
    "    geom_bar(stat = \"identity\",position = \"dodge\") + \n",
    "    theme_bw() +\n",
    "    labs(x=\"Month\",y = \"Listings\",title = \"Listings per Month\") +\n",
    "    scale_x_continuous(breaks = break_points,labels =months_labels,limits=limits) +\n",
    "    scale_fill_manual( values = {\"min\": \"yellow\", \"max\": \"#038cfc\"})\n",
    ")"
   ]
  },
  {
   "cell_type": "markdown",
   "metadata": {},
   "source": [
    "Most people have their highest prices in June, Jul, AUgust and their lowest prices from Oct to March"
   ]
  }
 ],
 "metadata": {
  "kernelspec": {
   "display_name": "Python 3",
   "language": "python",
   "name": "python3"
  },
  "language_info": {
   "codemirror_mode": {
    "name": "ipython",
    "version": 3
   },
   "file_extension": ".py",
   "mimetype": "text/x-python",
   "name": "python",
   "nbconvert_exporter": "python",
   "pygments_lexer": "ipython3",
   "version": "3.6.5"
  }
 },
 "nbformat": 4,
 "nbformat_minor": 2
}
